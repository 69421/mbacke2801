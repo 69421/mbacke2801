{
  "cells": [
    {
      "cell_type": "markdown",
      "metadata": {
        "id": "view-in-github",
        "colab_type": "text"
      },
      "source": [
        "<a href=\"https://colab.research.google.com/github/69421/mbacke2801/blob/main/Lab_11_Finding_How_The_Data_is_Distributed_v1.ipynb\" target=\"_parent\"><img src=\"https://colab.research.google.com/assets/colab-badge.svg\" alt=\"Open In Colab\"/></a>"
      ]
    },
    {
      "cell_type": "markdown",
      "metadata": {
        "id": "a4bb1ec1-7fcf-40e0-9ef9-50095345ff33"
      },
      "source": [
        "<p style=\"text-align:center\">\n",
        "    <a href=\"https://skills.network\" target=\"_blank\">\n",
        "    <img src=\"https://cf-courses-data.s3.us.cloud-object-storage.appdomain.cloud/assets/logos/SN_web_lightmode.png\" width=\"200\" alt=\"Skills Network Logo\"  />\n",
        "    </a>\n",
        "</p>\n"
      ]
    },
    {
      "cell_type": "markdown",
      "metadata": {
        "id": "91791624-7d3e-4711-b7a5-4422067901c3"
      },
      "source": [
        "# **Finding How The Data Is Distributed**\n"
      ]
    },
    {
      "cell_type": "markdown",
      "metadata": {
        "id": "cf857ea3-edc5-457d-a43f-f33084470431"
      },
      "source": [
        "Estimated time needed: **30** minutes\n"
      ]
    },
    {
      "cell_type": "markdown",
      "metadata": {
        "id": "3a3b8bc4-47bb-47d5-aec2-43344298fbe6"
      },
      "source": [
        "In this lab, you will work with a cleaned dataset to perform Exploratory Data Analysis (EDA). You will examine the structure of the data, visualize key variables, and analyze trends related to developer experience, tools, job satisfaction, and other important aspects.\n"
      ]
    },
    {
      "cell_type": "markdown",
      "metadata": {
        "id": "9891ea87-d548-4351-8dda-52ed76ca0a04"
      },
      "source": [
        "## Objectives\n"
      ]
    },
    {
      "cell_type": "markdown",
      "metadata": {
        "id": "ec0b2970-e176-44da-9f41-cedae8c6f48c"
      },
      "source": [
        "In this lab you will perform the following:\n"
      ]
    },
    {
      "cell_type": "markdown",
      "metadata": {
        "id": "77b2cb25-6250-49b3-8662-8abefbe88102"
      },
      "source": [
        "- Understand the structure of the dataset.\n",
        "\n",
        "- Perform summary statistics and data visualization.\n",
        "\n",
        "- Identify trends in developer experience, tools, job satisfaction, and other key variables.\n"
      ]
    },
    {
      "cell_type": "markdown",
      "metadata": {
        "id": "05365474-1d2f-47e6-a82a-8ae37168a6e6"
      },
      "source": [
        "### Install the required libraries\n"
      ]
    },
    {
      "cell_type": "code",
      "metadata": {
        "id": "457f8080-3629-41d8-8c14-bd67db4bb7c5"
      },
      "outputs": [],
      "source": [
        "!pip install pandas\n",
        "!pip install matplotlib\n",
        "!pip install seaborn\n"
      ],
      "execution_count": null
    },
    {
      "cell_type": "markdown",
      "metadata": {
        "id": "f8e4658f-ef44-4eab-90a6-ba0a56de1927"
      },
      "source": [
        "### Step 1: Import Libraries and Load Data\n"
      ]
    },
    {
      "cell_type": "markdown",
      "metadata": {
        "id": "de8a41af-a4eb-4195-97a0-aff2d2858b6b"
      },
      "source": [
        "- Import the `pandas`, `matplotlib.pyplot`, and `seaborn` libraries.\n"
      ]
    },
    {
      "cell_type": "markdown",
      "metadata": {
        "id": "9b821ec8-0438-4f09-b1c4-3e6d0ce88e23"
      },
      "source": [
        "- You will begin with loading the dataset. You can use the pyfetch method if working on JupyterLite. Otherwise, you can use pandas' read_csv() function directly on their local machines or cloud environments.\n"
      ]
    },
    {
      "cell_type": "code",
      "metadata": {
        "colab": {
          "base_uri": "https://localhost:8080/",
          "height": 457
        },
        "id": "d766d6cc-bfd0-4f36-ae01-391047856406",
        "outputId": "35add373-daa0-4aeb-f4af-5a0831ace4a8"
      },
      "outputs": [
        {
          "output_type": "execute_result",
          "data": {
            "text/plain": [
              "   ResponseId                      MainBranch                 Age  \\\n",
              "0           1  I am a developer by profession  Under 18 years old   \n",
              "1           2  I am a developer by profession     35-44 years old   \n",
              "2           3  I am a developer by profession     45-54 years old   \n",
              "3           4           I am learning to code     18-24 years old   \n",
              "4           5  I am a developer by profession     18-24 years old   \n",
              "\n",
              "            Employment RemoteWork   Check  \\\n",
              "0  Employed, full-time     Remote  Apples   \n",
              "1  Employed, full-time     Remote  Apples   \n",
              "2  Employed, full-time     Remote  Apples   \n",
              "3   Student, full-time        NaN  Apples   \n",
              "4   Student, full-time        NaN  Apples   \n",
              "\n",
              "                                    CodingActivities  \\\n",
              "0                                              Hobby   \n",
              "1  Hobby;Contribute to open-source projects;Other...   \n",
              "2  Hobby;Contribute to open-source projects;Other...   \n",
              "3                                                NaN   \n",
              "4                                                NaN   \n",
              "\n",
              "                                             EdLevel  \\\n",
              "0                          Primary/elementary school   \n",
              "1       Bachelor’s degree (B.A., B.S., B.Eng., etc.)   \n",
              "2    Master’s degree (M.A., M.S., M.Eng., MBA, etc.)   \n",
              "3  Some college/university study without earning ...   \n",
              "4  Secondary school (e.g. American high school, G...   \n",
              "\n",
              "                                           LearnCode  \\\n",
              "0                             Books / Physical media   \n",
              "1  Books / Physical media;Colleague;On the job tr...   \n",
              "2  Books / Physical media;Colleague;On the job tr...   \n",
              "3  Other online resources (e.g., videos, blogs, f...   \n",
              "4  Other online resources (e.g., videos, blogs, f...   \n",
              "\n",
              "                                     LearnCodeOnline  ... JobSatPoints_6  \\\n",
              "0                                                NaN  ...            NaN   \n",
              "1  Technical documentation;Blogs;Books;Written Tu...  ...            0.0   \n",
              "2  Technical documentation;Blogs;Books;Written Tu...  ...            NaN   \n",
              "3  Stack Overflow;How-to videos;Interactive tutorial  ...            NaN   \n",
              "4  Technical documentation;Blogs;Written Tutorial...  ...            NaN   \n",
              "\n",
              "  JobSatPoints_7 JobSatPoints_8 JobSatPoints_9 JobSatPoints_10  \\\n",
              "0            NaN            NaN            NaN             NaN   \n",
              "1            0.0            0.0            0.0             0.0   \n",
              "2            NaN            NaN            NaN             NaN   \n",
              "3            NaN            NaN            NaN             NaN   \n",
              "4            NaN            NaN            NaN             NaN   \n",
              "\n",
              "  JobSatPoints_11           SurveyLength SurveyEase ConvertedCompYearly JobSat  \n",
              "0             NaN                    NaN        NaN                 NaN    NaN  \n",
              "1             0.0                    NaN        NaN                 NaN    NaN  \n",
              "2             NaN  Appropriate in length       Easy                 NaN    NaN  \n",
              "3             NaN               Too long       Easy                 NaN    NaN  \n",
              "4             NaN              Too short       Easy                 NaN    NaN  \n",
              "\n",
              "[5 rows x 114 columns]"
            ],
            "text/html": [
              "\n",
              "  <div id=\"df-1226f08a-dccf-474e-a294-d818243086b5\" class=\"colab-df-container\">\n",
              "    <div>\n",
              "<style scoped>\n",
              "    .dataframe tbody tr th:only-of-type {\n",
              "        vertical-align: middle;\n",
              "    }\n",
              "\n",
              "    .dataframe tbody tr th {\n",
              "        vertical-align: top;\n",
              "    }\n",
              "\n",
              "    .dataframe thead th {\n",
              "        text-align: right;\n",
              "    }\n",
              "</style>\n",
              "<table border=\"1\" class=\"dataframe\">\n",
              "  <thead>\n",
              "    <tr style=\"text-align: right;\">\n",
              "      <th></th>\n",
              "      <th>ResponseId</th>\n",
              "      <th>MainBranch</th>\n",
              "      <th>Age</th>\n",
              "      <th>Employment</th>\n",
              "      <th>RemoteWork</th>\n",
              "      <th>Check</th>\n",
              "      <th>CodingActivities</th>\n",
              "      <th>EdLevel</th>\n",
              "      <th>LearnCode</th>\n",
              "      <th>LearnCodeOnline</th>\n",
              "      <th>...</th>\n",
              "      <th>JobSatPoints_6</th>\n",
              "      <th>JobSatPoints_7</th>\n",
              "      <th>JobSatPoints_8</th>\n",
              "      <th>JobSatPoints_9</th>\n",
              "      <th>JobSatPoints_10</th>\n",
              "      <th>JobSatPoints_11</th>\n",
              "      <th>SurveyLength</th>\n",
              "      <th>SurveyEase</th>\n",
              "      <th>ConvertedCompYearly</th>\n",
              "      <th>JobSat</th>\n",
              "    </tr>\n",
              "  </thead>\n",
              "  <tbody>\n",
              "    <tr>\n",
              "      <th>0</th>\n",
              "      <td>1</td>\n",
              "      <td>I am a developer by profession</td>\n",
              "      <td>Under 18 years old</td>\n",
              "      <td>Employed, full-time</td>\n",
              "      <td>Remote</td>\n",
              "      <td>Apples</td>\n",
              "      <td>Hobby</td>\n",
              "      <td>Primary/elementary school</td>\n",
              "      <td>Books / Physical media</td>\n",
              "      <td>NaN</td>\n",
              "      <td>...</td>\n",
              "      <td>NaN</td>\n",
              "      <td>NaN</td>\n",
              "      <td>NaN</td>\n",
              "      <td>NaN</td>\n",
              "      <td>NaN</td>\n",
              "      <td>NaN</td>\n",
              "      <td>NaN</td>\n",
              "      <td>NaN</td>\n",
              "      <td>NaN</td>\n",
              "      <td>NaN</td>\n",
              "    </tr>\n",
              "    <tr>\n",
              "      <th>1</th>\n",
              "      <td>2</td>\n",
              "      <td>I am a developer by profession</td>\n",
              "      <td>35-44 years old</td>\n",
              "      <td>Employed, full-time</td>\n",
              "      <td>Remote</td>\n",
              "      <td>Apples</td>\n",
              "      <td>Hobby;Contribute to open-source projects;Other...</td>\n",
              "      <td>Bachelor’s degree (B.A., B.S., B.Eng., etc.)</td>\n",
              "      <td>Books / Physical media;Colleague;On the job tr...</td>\n",
              "      <td>Technical documentation;Blogs;Books;Written Tu...</td>\n",
              "      <td>...</td>\n",
              "      <td>0.0</td>\n",
              "      <td>0.0</td>\n",
              "      <td>0.0</td>\n",
              "      <td>0.0</td>\n",
              "      <td>0.0</td>\n",
              "      <td>0.0</td>\n",
              "      <td>NaN</td>\n",
              "      <td>NaN</td>\n",
              "      <td>NaN</td>\n",
              "      <td>NaN</td>\n",
              "    </tr>\n",
              "    <tr>\n",
              "      <th>2</th>\n",
              "      <td>3</td>\n",
              "      <td>I am a developer by profession</td>\n",
              "      <td>45-54 years old</td>\n",
              "      <td>Employed, full-time</td>\n",
              "      <td>Remote</td>\n",
              "      <td>Apples</td>\n",
              "      <td>Hobby;Contribute to open-source projects;Other...</td>\n",
              "      <td>Master’s degree (M.A., M.S., M.Eng., MBA, etc.)</td>\n",
              "      <td>Books / Physical media;Colleague;On the job tr...</td>\n",
              "      <td>Technical documentation;Blogs;Books;Written Tu...</td>\n",
              "      <td>...</td>\n",
              "      <td>NaN</td>\n",
              "      <td>NaN</td>\n",
              "      <td>NaN</td>\n",
              "      <td>NaN</td>\n",
              "      <td>NaN</td>\n",
              "      <td>NaN</td>\n",
              "      <td>Appropriate in length</td>\n",
              "      <td>Easy</td>\n",
              "      <td>NaN</td>\n",
              "      <td>NaN</td>\n",
              "    </tr>\n",
              "    <tr>\n",
              "      <th>3</th>\n",
              "      <td>4</td>\n",
              "      <td>I am learning to code</td>\n",
              "      <td>18-24 years old</td>\n",
              "      <td>Student, full-time</td>\n",
              "      <td>NaN</td>\n",
              "      <td>Apples</td>\n",
              "      <td>NaN</td>\n",
              "      <td>Some college/university study without earning ...</td>\n",
              "      <td>Other online resources (e.g., videos, blogs, f...</td>\n",
              "      <td>Stack Overflow;How-to videos;Interactive tutorial</td>\n",
              "      <td>...</td>\n",
              "      <td>NaN</td>\n",
              "      <td>NaN</td>\n",
              "      <td>NaN</td>\n",
              "      <td>NaN</td>\n",
              "      <td>NaN</td>\n",
              "      <td>NaN</td>\n",
              "      <td>Too long</td>\n",
              "      <td>Easy</td>\n",
              "      <td>NaN</td>\n",
              "      <td>NaN</td>\n",
              "    </tr>\n",
              "    <tr>\n",
              "      <th>4</th>\n",
              "      <td>5</td>\n",
              "      <td>I am a developer by profession</td>\n",
              "      <td>18-24 years old</td>\n",
              "      <td>Student, full-time</td>\n",
              "      <td>NaN</td>\n",
              "      <td>Apples</td>\n",
              "      <td>NaN</td>\n",
              "      <td>Secondary school (e.g. American high school, G...</td>\n",
              "      <td>Other online resources (e.g., videos, blogs, f...</td>\n",
              "      <td>Technical documentation;Blogs;Written Tutorial...</td>\n",
              "      <td>...</td>\n",
              "      <td>NaN</td>\n",
              "      <td>NaN</td>\n",
              "      <td>NaN</td>\n",
              "      <td>NaN</td>\n",
              "      <td>NaN</td>\n",
              "      <td>NaN</td>\n",
              "      <td>Too short</td>\n",
              "      <td>Easy</td>\n",
              "      <td>NaN</td>\n",
              "      <td>NaN</td>\n",
              "    </tr>\n",
              "  </tbody>\n",
              "</table>\n",
              "<p>5 rows × 114 columns</p>\n",
              "</div>\n",
              "    <div class=\"colab-df-buttons\">\n",
              "\n",
              "  <div class=\"colab-df-container\">\n",
              "    <button class=\"colab-df-convert\" onclick=\"convertToInteractive('df-1226f08a-dccf-474e-a294-d818243086b5')\"\n",
              "            title=\"Convert this dataframe to an interactive table.\"\n",
              "            style=\"display:none;\">\n",
              "\n",
              "  <svg xmlns=\"http://www.w3.org/2000/svg\" height=\"24px\" viewBox=\"0 -960 960 960\">\n",
              "    <path d=\"M120-120v-720h720v720H120Zm60-500h600v-160H180v160Zm220 220h160v-160H400v160Zm0 220h160v-160H400v160ZM180-400h160v-160H180v160Zm440 0h160v-160H620v160ZM180-180h160v-160H180v160Zm440 0h160v-160H620v160Z\"/>\n",
              "  </svg>\n",
              "    </button>\n",
              "\n",
              "  <style>\n",
              "    .colab-df-container {\n",
              "      display:flex;\n",
              "      gap: 12px;\n",
              "    }\n",
              "\n",
              "    .colab-df-convert {\n",
              "      background-color: #E8F0FE;\n",
              "      border: none;\n",
              "      border-radius: 50%;\n",
              "      cursor: pointer;\n",
              "      display: none;\n",
              "      fill: #1967D2;\n",
              "      height: 32px;\n",
              "      padding: 0 0 0 0;\n",
              "      width: 32px;\n",
              "    }\n",
              "\n",
              "    .colab-df-convert:hover {\n",
              "      background-color: #E2EBFA;\n",
              "      box-shadow: 0px 1px 2px rgba(60, 64, 67, 0.3), 0px 1px 3px 1px rgba(60, 64, 67, 0.15);\n",
              "      fill: #174EA6;\n",
              "    }\n",
              "\n",
              "    .colab-df-buttons div {\n",
              "      margin-bottom: 4px;\n",
              "    }\n",
              "\n",
              "    [theme=dark] .colab-df-convert {\n",
              "      background-color: #3B4455;\n",
              "      fill: #D2E3FC;\n",
              "    }\n",
              "\n",
              "    [theme=dark] .colab-df-convert:hover {\n",
              "      background-color: #434B5C;\n",
              "      box-shadow: 0px 1px 3px 1px rgba(0, 0, 0, 0.15);\n",
              "      filter: drop-shadow(0px 1px 2px rgba(0, 0, 0, 0.3));\n",
              "      fill: #FFFFFF;\n",
              "    }\n",
              "  </style>\n",
              "\n",
              "    <script>\n",
              "      const buttonEl =\n",
              "        document.querySelector('#df-1226f08a-dccf-474e-a294-d818243086b5 button.colab-df-convert');\n",
              "      buttonEl.style.display =\n",
              "        google.colab.kernel.accessAllowed ? 'block' : 'none';\n",
              "\n",
              "      async function convertToInteractive(key) {\n",
              "        const element = document.querySelector('#df-1226f08a-dccf-474e-a294-d818243086b5');\n",
              "        const dataTable =\n",
              "          await google.colab.kernel.invokeFunction('convertToInteractive',\n",
              "                                                    [key], {});\n",
              "        if (!dataTable) return;\n",
              "\n",
              "        const docLinkHtml = 'Like what you see? Visit the ' +\n",
              "          '<a target=\"_blank\" href=https://colab.research.google.com/notebooks/data_table.ipynb>data table notebook</a>'\n",
              "          + ' to learn more about interactive tables.';\n",
              "        element.innerHTML = '';\n",
              "        dataTable['output_type'] = 'display_data';\n",
              "        await google.colab.output.renderOutput(dataTable, element);\n",
              "        const docLink = document.createElement('div');\n",
              "        docLink.innerHTML = docLinkHtml;\n",
              "        element.appendChild(docLink);\n",
              "      }\n",
              "    </script>\n",
              "  </div>\n",
              "\n",
              "\n",
              "    <div id=\"df-ff39787c-337e-401e-9bbc-f129bb97e024\">\n",
              "      <button class=\"colab-df-quickchart\" onclick=\"quickchart('df-ff39787c-337e-401e-9bbc-f129bb97e024')\"\n",
              "                title=\"Suggest charts\"\n",
              "                style=\"display:none;\">\n",
              "\n",
              "<svg xmlns=\"http://www.w3.org/2000/svg\" height=\"24px\"viewBox=\"0 0 24 24\"\n",
              "     width=\"24px\">\n",
              "    <g>\n",
              "        <path d=\"M19 3H5c-1.1 0-2 .9-2 2v14c0 1.1.9 2 2 2h14c1.1 0 2-.9 2-2V5c0-1.1-.9-2-2-2zM9 17H7v-7h2v7zm4 0h-2V7h2v10zm4 0h-2v-4h2v4z\"/>\n",
              "    </g>\n",
              "</svg>\n",
              "      </button>\n",
              "\n",
              "<style>\n",
              "  .colab-df-quickchart {\n",
              "      --bg-color: #E8F0FE;\n",
              "      --fill-color: #1967D2;\n",
              "      --hover-bg-color: #E2EBFA;\n",
              "      --hover-fill-color: #174EA6;\n",
              "      --disabled-fill-color: #AAA;\n",
              "      --disabled-bg-color: #DDD;\n",
              "  }\n",
              "\n",
              "  [theme=dark] .colab-df-quickchart {\n",
              "      --bg-color: #3B4455;\n",
              "      --fill-color: #D2E3FC;\n",
              "      --hover-bg-color: #434B5C;\n",
              "      --hover-fill-color: #FFFFFF;\n",
              "      --disabled-bg-color: #3B4455;\n",
              "      --disabled-fill-color: #666;\n",
              "  }\n",
              "\n",
              "  .colab-df-quickchart {\n",
              "    background-color: var(--bg-color);\n",
              "    border: none;\n",
              "    border-radius: 50%;\n",
              "    cursor: pointer;\n",
              "    display: none;\n",
              "    fill: var(--fill-color);\n",
              "    height: 32px;\n",
              "    padding: 0;\n",
              "    width: 32px;\n",
              "  }\n",
              "\n",
              "  .colab-df-quickchart:hover {\n",
              "    background-color: var(--hover-bg-color);\n",
              "    box-shadow: 0 1px 2px rgba(60, 64, 67, 0.3), 0 1px 3px 1px rgba(60, 64, 67, 0.15);\n",
              "    fill: var(--button-hover-fill-color);\n",
              "  }\n",
              "\n",
              "  .colab-df-quickchart-complete:disabled,\n",
              "  .colab-df-quickchart-complete:disabled:hover {\n",
              "    background-color: var(--disabled-bg-color);\n",
              "    fill: var(--disabled-fill-color);\n",
              "    box-shadow: none;\n",
              "  }\n",
              "\n",
              "  .colab-df-spinner {\n",
              "    border: 2px solid var(--fill-color);\n",
              "    border-color: transparent;\n",
              "    border-bottom-color: var(--fill-color);\n",
              "    animation:\n",
              "      spin 1s steps(1) infinite;\n",
              "  }\n",
              "\n",
              "  @keyframes spin {\n",
              "    0% {\n",
              "      border-color: transparent;\n",
              "      border-bottom-color: var(--fill-color);\n",
              "      border-left-color: var(--fill-color);\n",
              "    }\n",
              "    20% {\n",
              "      border-color: transparent;\n",
              "      border-left-color: var(--fill-color);\n",
              "      border-top-color: var(--fill-color);\n",
              "    }\n",
              "    30% {\n",
              "      border-color: transparent;\n",
              "      border-left-color: var(--fill-color);\n",
              "      border-top-color: var(--fill-color);\n",
              "      border-right-color: var(--fill-color);\n",
              "    }\n",
              "    40% {\n",
              "      border-color: transparent;\n",
              "      border-right-color: var(--fill-color);\n",
              "      border-top-color: var(--fill-color);\n",
              "    }\n",
              "    60% {\n",
              "      border-color: transparent;\n",
              "      border-right-color: var(--fill-color);\n",
              "    }\n",
              "    80% {\n",
              "      border-color: transparent;\n",
              "      border-right-color: var(--fill-color);\n",
              "      border-bottom-color: var(--fill-color);\n",
              "    }\n",
              "    90% {\n",
              "      border-color: transparent;\n",
              "      border-bottom-color: var(--fill-color);\n",
              "    }\n",
              "  }\n",
              "</style>\n",
              "\n",
              "      <script>\n",
              "        async function quickchart(key) {\n",
              "          const quickchartButtonEl =\n",
              "            document.querySelector('#' + key + ' button');\n",
              "          quickchartButtonEl.disabled = true;  // To prevent multiple clicks.\n",
              "          quickchartButtonEl.classList.add('colab-df-spinner');\n",
              "          try {\n",
              "            const charts = await google.colab.kernel.invokeFunction(\n",
              "                'suggestCharts', [key], {});\n",
              "          } catch (error) {\n",
              "            console.error('Error during call to suggestCharts:', error);\n",
              "          }\n",
              "          quickchartButtonEl.classList.remove('colab-df-spinner');\n",
              "          quickchartButtonEl.classList.add('colab-df-quickchart-complete');\n",
              "        }\n",
              "        (() => {\n",
              "          let quickchartButtonEl =\n",
              "            document.querySelector('#df-ff39787c-337e-401e-9bbc-f129bb97e024 button');\n",
              "          quickchartButtonEl.style.display =\n",
              "            google.colab.kernel.accessAllowed ? 'block' : 'none';\n",
              "        })();\n",
              "      </script>\n",
              "    </div>\n",
              "\n",
              "    </div>\n",
              "  </div>\n"
            ],
            "application/vnd.google.colaboratory.intrinsic+json": {
              "type": "dataframe",
              "variable_name": "df"
            }
          },
          "metadata": {},
          "execution_count": 57
        }
      ],
      "source": [
        "# Import necessary libraries\n",
        "import pandas as pd\n",
        "import matplotlib.pyplot as plt\n",
        "import seaborn as sns\n",
        "\n",
        "# Load the Stack Overflow survey dataset\n",
        "data_url = 'https://cf-courses-data.s3.us.cloud-object-storage.appdomain.cloud/n01PQ9pSmiRX6520flujwQ/survey-data.csv'\n",
        "df = pd.read_csv(data_url)\n",
        "\n",
        "# Display the first few rows of the dataset\n",
        "df.head()\n"
      ],
      "execution_count": 57
    },
    {
      "cell_type": "markdown",
      "metadata": {
        "id": "33022f03-6167-45e1-a0d8-4cff0b259349"
      },
      "source": [
        "### Step 2: Examine the Structure of the Data\n"
      ]
    },
    {
      "cell_type": "markdown",
      "metadata": {
        "id": "dc80f61d-644c-47a0-917c-61a1486ed324"
      },
      "source": [
        "- Display the column names, data types, and summary information to understand the data structure.\n",
        "\n",
        "- Objective: Gain insights into the dataset's shape and available variables.\n"
      ]
    },
    {
      "cell_type": "code",
      "metadata": {
        "colab": {
          "base_uri": "https://localhost:8080/"
        },
        "id": "1690c946-2464-43bd-90d2-ef84f59d6b94",
        "outputId": "ed75ea04-c241-4c8a-ca61-071f2d3a1a10"
      },
      "outputs": [
        {
          "output_type": "stream",
          "name": "stdout",
          "text": [
            "<class 'pandas.core.frame.DataFrame'>\n",
            "RangeIndex: 65437 entries, 0 to 65436\n",
            "Columns: 114 entries, ResponseId to JobSat\n",
            "dtypes: float64(13), int64(1), object(100)\n",
            "memory usage: 56.9+ MB\n"
          ]
        }
      ],
      "source": [
        "## Write your code here\n",
        "df.info()"
      ],
      "execution_count": 58
    },
    {
      "cell_type": "markdown",
      "metadata": {
        "id": "42a43355-828c-4a69-b64f-2825a0ff825d"
      },
      "source": [
        "### Step 3: Handle Missing Data\n"
      ]
    },
    {
      "cell_type": "markdown",
      "metadata": {
        "id": "14ac2c5a-4e17-41b6-af66-93588957ce6b"
      },
      "source": [
        "- Identify missing values in the dataset.\n",
        "\n",
        "- Impute or remove missing values as necessary to ensure data completeness.\n",
        "\n"
      ]
    },
    {
      "cell_type": "code",
      "metadata": {
        "colab": {
          "base_uri": "https://localhost:8080/",
          "height": 453
        },
        "id": "f98036e8-19a3-415b-91ff-0cb5acf362de",
        "outputId": "a2463826-72d4-4bca-cf05-cb1d21a335f9"
      },
      "outputs": [
        {
          "output_type": "execute_result",
          "data": {
            "text/plain": [
              "ResponseId                 0\n",
              "MainBranch                 0\n",
              "Age                        0\n",
              "Employment                 0\n",
              "RemoteWork             10631\n",
              "                       ...  \n",
              "JobSatPoints_11        35992\n",
              "SurveyLength            9255\n",
              "SurveyEase              9199\n",
              "ConvertedCompYearly    42002\n",
              "JobSat                 36311\n",
              "Length: 114, dtype: int64"
            ],
            "text/html": [
              "<div>\n",
              "<style scoped>\n",
              "    .dataframe tbody tr th:only-of-type {\n",
              "        vertical-align: middle;\n",
              "    }\n",
              "\n",
              "    .dataframe tbody tr th {\n",
              "        vertical-align: top;\n",
              "    }\n",
              "\n",
              "    .dataframe thead th {\n",
              "        text-align: right;\n",
              "    }\n",
              "</style>\n",
              "<table border=\"1\" class=\"dataframe\">\n",
              "  <thead>\n",
              "    <tr style=\"text-align: right;\">\n",
              "      <th></th>\n",
              "      <th>0</th>\n",
              "    </tr>\n",
              "  </thead>\n",
              "  <tbody>\n",
              "    <tr>\n",
              "      <th>ResponseId</th>\n",
              "      <td>0</td>\n",
              "    </tr>\n",
              "    <tr>\n",
              "      <th>MainBranch</th>\n",
              "      <td>0</td>\n",
              "    </tr>\n",
              "    <tr>\n",
              "      <th>Age</th>\n",
              "      <td>0</td>\n",
              "    </tr>\n",
              "    <tr>\n",
              "      <th>Employment</th>\n",
              "      <td>0</td>\n",
              "    </tr>\n",
              "    <tr>\n",
              "      <th>RemoteWork</th>\n",
              "      <td>10631</td>\n",
              "    </tr>\n",
              "    <tr>\n",
              "      <th>...</th>\n",
              "      <td>...</td>\n",
              "    </tr>\n",
              "    <tr>\n",
              "      <th>JobSatPoints_11</th>\n",
              "      <td>35992</td>\n",
              "    </tr>\n",
              "    <tr>\n",
              "      <th>SurveyLength</th>\n",
              "      <td>9255</td>\n",
              "    </tr>\n",
              "    <tr>\n",
              "      <th>SurveyEase</th>\n",
              "      <td>9199</td>\n",
              "    </tr>\n",
              "    <tr>\n",
              "      <th>ConvertedCompYearly</th>\n",
              "      <td>42002</td>\n",
              "    </tr>\n",
              "    <tr>\n",
              "      <th>JobSat</th>\n",
              "      <td>36311</td>\n",
              "    </tr>\n",
              "  </tbody>\n",
              "</table>\n",
              "<p>114 rows × 1 columns</p>\n",
              "</div><br><label><b>dtype:</b> int64</label>"
            ]
          },
          "metadata": {},
          "execution_count": 59
        }
      ],
      "source": [
        "## Write your code here\n",
        "df.isnull().sum()\n"
      ],
      "execution_count": 59
    },
    {
      "cell_type": "code",
      "source": [
        "df.columns"
      ],
      "metadata": {
        "colab": {
          "base_uri": "https://localhost:8080/"
        },
        "id": "MsGKO2VqDhsf",
        "outputId": "14631507-f2ec-4bb4-9530-9f42120c82d6"
      },
      "execution_count": 63,
      "outputs": [
        {
          "output_type": "execute_result",
          "data": {
            "text/plain": [
              "Index(['ResponseId', 'MainBranch', 'Age', 'Employment', 'RemoteWork', 'Check',\n",
              "       'CodingActivities', 'EdLevel', 'LearnCode', 'LearnCodeOnline',\n",
              "       ...\n",
              "       'JobSatPoints_6', 'JobSatPoints_7', 'JobSatPoints_8', 'JobSatPoints_9',\n",
              "       'JobSatPoints_10', 'JobSatPoints_11', 'SurveyLength', 'SurveyEase',\n",
              "       'ConvertedCompYearly', 'JobSat'],\n",
              "      dtype='object', length=114)"
            ]
          },
          "metadata": {},
          "execution_count": 63
        }
      ]
    },
    {
      "cell_type": "markdown",
      "metadata": {
        "id": "52af3e5f-200a-40c0-b55e-eea1eaf6fbb0"
      },
      "source": [
        "### Step 4: Analyze Key Columns\n"
      ]
    },
    {
      "cell_type": "markdown",
      "metadata": {
        "id": "2156cdb8-6368-454d-a2ea-d5568fbdcc32"
      },
      "source": [
        "- Examine key columns such as `Employment`, `JobSat` (Job Satisfaction), and `YearsCodePro` (Professional Coding Experience).\n",
        "\n",
        "- **Instruction**: Calculate the value counts for each column to understand the distribution of responses.\n",
        "\n"
      ]
    },
    {
      "cell_type": "code",
      "metadata": {
        "colab": {
          "base_uri": "https://localhost:8080/"
        },
        "id": "5b08821e-3511-4312-a260-7334f406e9ae",
        "outputId": "43e17f66-76fe-4c90-99ac-f47044bcf5c9"
      },
      "outputs": [
        {
          "output_type": "stream",
          "name": "stdout",
          "text": [
            "Value counts for 'Employment':\n",
            "Employment\n",
            "Employed, full-time                                                                                                                                   39041\n",
            "Independent contractor, freelancer, or self-employed                                                                                                   4846\n",
            "Student, full-time                                                                                                                                     4709\n",
            "Employed, full-time;Independent contractor, freelancer, or self-employed                                                                               3557\n",
            "Not employed, but looking for work                                                                                                                     2341\n",
            "                                                                                                                                                      ...  \n",
            "Not employed, but looking for work;Independent contractor, freelancer, or self-employed;Not employed, and not looking for work;Employed, part-time        1\n",
            "Student, full-time;Retired                                                                                                                                1\n",
            "Employed, full-time;Not employed, but looking for work;Student, part-time                                                                                 1\n",
            "Not employed, and not looking for work;Student, part-time;Employed, part-time                                                                             1\n",
            "Not employed, but looking for work;Independent contractor, freelancer, or self-employed;Student, part-time;Retired                                        1\n",
            "Name: count, Length: 110, dtype: int64\n",
            "\n",
            "Value counts for 'JobSat':\n",
            "JobSat\n",
            "8.0     7509\n",
            "7.0     6379\n",
            "6.0     3751\n",
            "9.0     3626\n",
            "10.0    2251\n",
            "5.0     1956\n",
            "3.0     1165\n",
            "4.0     1130\n",
            "2.0      772\n",
            "0.0      311\n",
            "1.0      276\n",
            "Name: count, dtype: int64\n",
            "\n",
            "Value counts for 'YearsCodePro':\n",
            "YearsCodePro\n",
            "2                     4168\n",
            "3                     4093\n",
            "5                     3526\n",
            "10                    3251\n",
            "4                     3215\n",
            "Less than 1 year      2856\n",
            "6                     2843\n",
            "1                     2639\n",
            "8                     2549\n",
            "7                     2517\n",
            "12                    1777\n",
            "15                    1635\n",
            "20                    1549\n",
            "9                     1493\n",
            "11                    1312\n",
            "13                    1127\n",
            "14                    1082\n",
            "25                     998\n",
            "16                     946\n",
            "18                     867\n",
            "17                     814\n",
            "30                     689\n",
            "24                     632\n",
            "19                     516\n",
            "22                     492\n",
            "23                     448\n",
            "26                     426\n",
            "27                     380\n",
            "21                     380\n",
            "28                     342\n",
            "35                     285\n",
            "29                     196\n",
            "40                     194\n",
            "32                     194\n",
            "34                     169\n",
            "38                     134\n",
            "33                     132\n",
            "36                     119\n",
            "31                     106\n",
            "37                     104\n",
            "45                      56\n",
            "42                      55\n",
            "39                      54\n",
            "41                      51\n",
            "More than 50 years      50\n",
            "44                      42\n",
            "43                      37\n",
            "46                      21\n",
            "50                      14\n",
            "48                      14\n",
            "49                      11\n",
            "47                      10\n",
            "Name: count, dtype: int64\n"
          ]
        }
      ],
      "source": [
        "## Write your code here\n",
        "# Calculate value counts for 'Employment'\n",
        "print(\"Value counts for 'Employment':\")\n",
        "print(df['Employment'].value_counts())\n",
        "\n",
        "# Calculate value counts for 'JobSat'\n",
        "print(\"\\nValue counts for 'JobSat':\")\n",
        "print(df['JobSat'].value_counts())\n",
        "\n",
        "# Calculate value counts for 'YearsCodePro'\n",
        "print(\"\\nValue counts for 'YearsCodePro':\")\n",
        "print(df['YearsCodePro'].value_counts())"
      ],
      "execution_count": 64
    },
    {
      "cell_type": "markdown",
      "metadata": {
        "id": "14e14f76-fd56-456b-b240-6f8b216b3f94"
      },
      "source": [
        "### Step 5: Visualize Job Satisfaction (Focus on JobSat)\n"
      ]
    },
    {
      "cell_type": "markdown",
      "metadata": {
        "id": "ba93380b-3ced-45a2-87f2-062126341ef1"
      },
      "source": [
        "- Create a pie chart or KDE plot to visualize the distribution of `JobSat`.\n",
        "\n",
        "- Provide an interpretation of the plot, highlighting key trends in job satisfaction.\n"
      ]
    },
    {
      "cell_type": "code",
      "metadata": {
        "colab": {
          "base_uri": "https://localhost:8080/",
          "height": 806
        },
        "id": "99a7526d-47e2-45d2-8336-46db95988e98",
        "outputId": "bf74a564-a1e1-4180-b534-6ca64ffae633"
      },
      "outputs": [
        {
          "output_type": "display_data",
          "data": {
            "text/plain": [
              "<Figure size 800x800 with 1 Axes>"
            ],
            "image/png": "[encoded data removed]"
          },
          "metadata": {}
        },
        {
          "output_type": "stream",
          "name": "stdout",
          "text": [
            "\n",
            "Interpretation of the Job Satisfaction Pie Chart:\n",
            "The pie chart shows the proportion of respondents in each job satisfaction category.\n",
            "Observe the largest slices to identify the most common job satisfaction levels.\n",
            "Examine the relative sizes of the slices to understand the overall distribution.\n",
            "For example, a large slice for 'Very satisfied' would indicate high job satisfaction among respondents.\n"
          ]
        }
      ],
      "source": [
        "## Write your code here\n",
        "\n",
        "## Write your code here\n",
        "\n",
        "# Calculate the value counts for 'JobSat'\n",
        "job_sat_counts = df['JobSat'].value_counts()\n",
        "\n",
        "# Create a pie chart\n",
        "plt.figure(figsize=(8, 8))\n",
        "plt.pie(job_sat_counts, labels=job_sat_counts.index, autopct='%1.1f%%', startangle=140)\n",
        "plt.title('Distribution of Job Satisfaction')\n",
        "plt.axis('equal')  # Equal aspect ratio ensures that pie is drawn as a circle.\n",
        "plt.show()\n",
        "\n",
        "# Interpretation:\n",
        "print(\"\\nInterpretation of the Job Satisfaction Pie Chart:\")\n",
        "print(\"The pie chart shows the proportion of respondents in each job satisfaction category.\")\n",
        "print(\"Observe the largest slices to identify the most common job satisfaction levels.\")\n",
        "print(\"Examine the relative sizes of the slices to understand the overall distribution.\")\n",
        "print(\"For example, a large slice for 'Very satisfied' would indicate high job satisfaction among respondents.\")"
      ],
      "execution_count": 65
    },
    {
      "cell_type": "markdown",
      "metadata": {
        "id": "80ac762c-e73f-469b-a29c-b9a131fae356"
      },
      "source": [
        "### Step 6: Programming Languages Analysis\n"
      ]
    },
    {
      "cell_type": "markdown",
      "metadata": {
        "id": "4b0fd0ce-f6d0-4994-ad61-3b15abb2e772"
      },
      "source": [
        "- Compare the frequency of programming languages in `LanguageHaveWorkedWith` and `LanguageWantToWorkWith`.\n",
        "  \n",
        "- Visualize the overlap or differences using a Venn diagram or a grouped bar chart.\n"
      ]
    },
    {
      "cell_type": "code",
      "metadata": {
        "colab": {
          "base_uri": "https://localhost:8080/",
          "height": 686
        },
        "id": "f51cbe60-a744-4dc9-a09b-0bc5ca6c3fc3",
        "outputId": "981b9d05-4f71-4337-efcd-a0c687957c34"
      },
      "outputs": [
        {
          "output_type": "display_data",
          "data": {
            "text/plain": [
              "<Figure size 1200x800 with 0 Axes>"
            ]
          },
          "metadata": {}
        },
        {
          "output_type": "display_data",
          "data": {
            "text/plain": [
              "<Figure size 1200x800 with 1 Axes>"
            ],
            "image/png": "[encoded data removed]"
          },
          "metadata": {}
        },
        {
          "output_type": "stream",
          "name": "stdout",
          "text": [
            "\n",
            "Interpretation of the Programming Language Comparison Chart:\n",
            "This grouped bar chart compares the frequency of the top languages developers have worked with versus the languages they want to work with.\n",
            "Bars side-by-side for the same language show the difference in current usage and future interest.\n",
            "Languages with a significantly taller 'WantToWorkWith' bar may indicate emerging trends or desirable skills.\n",
            "Languages with a significantly taller 'HaveWorkedWith' bar but smaller 'WantToWorkWith' bar might indicate languages that are widely used but less preferred for future work.\n"
          ]
        }
      ],
      "source": [
        "## Write your code here\n",
        "## Write your code here\n",
        "# Split the strings and count the frequency of each language\n",
        "languages_worked_with = df['LanguageHaveWorkedWith'].str.split(';', expand=True).stack().reset_index(drop=True)\n",
        "languages_wanted_to_work_with = df['LanguageWantToWorkWith'].str.split(';', expand=True).stack().reset_index(drop=True)\n",
        "\n",
        "# Get the top N languages for better visualization\n",
        "top_n = 15\n",
        "top_languages_worked_with = languages_worked_with.value_counts().head(top_n)\n",
        "top_languages_wanted_to_work_with = languages_wanted_to_work_with.value_counts().head(top_n)\n",
        "\n",
        "# Combine the data for plotting\n",
        "combined_languages = pd.concat([top_languages_worked_with, top_languages_wanted_to_work_with], axis=1)\n",
        "combined_languages.columns = ['HaveWorkedWith', 'WantToWorkWith']\n",
        "combined_languages = combined_languages.fillna(0) # Fill potential NaNs if a language is only in one list\n",
        "\n",
        "# Sort by languages worked with for consistent ordering\n",
        "combined_languages = combined_languages.sort_values(by='HaveWorkedWith', ascending=False)\n",
        "\n",
        "\n",
        "# Create a grouped bar chart\n",
        "plt.figure(figsize=(12, 8))\n",
        "combined_languages.plot(kind='bar', figsize=(12, 8))\n",
        "plt.title(f'Top {top_n} Programming Languages: Worked With vs. Want to Work With')\n",
        "plt.xlabel('Programming Language')\n",
        "plt.ylabel('Frequency')\n",
        "plt.xticks(rotation=90)\n",
        "plt.tight_layout() # Adjust layout to prevent labels overlapping\n",
        "plt.show()\n",
        "\n",
        "# Interpretation:\n",
        "print(\"\\nInterpretation of the Programming Language Comparison Chart:\")\n",
        "print(\"This grouped bar chart compares the frequency of the top languages developers have worked with versus the languages they want to work with.\")\n",
        "print(\"Bars side-by-side for the same language show the difference in current usage and future interest.\")\n",
        "print(\"Languages with a significantly taller 'WantToWorkWith' bar may indicate emerging trends or desirable skills.\")\n",
        "print(\"Languages with a significantly taller 'HaveWorkedWith' bar but smaller 'WantToWorkWith' bar might indicate languages that are widely used but less preferred for future work.\")"
      ],
      "execution_count": 66
    },
    {
      "cell_type": "markdown",
      "metadata": {
        "id": "96d4a673-d784-437b-8145-4bc8c98c29f2"
      },
      "source": [
        "### Step 7: Analyze Remote Work Trends\n"
      ]
    },
    {
      "cell_type": "markdown",
      "metadata": {
        "id": "fb765a14-5d10-4018-bd97-5244499d984d"
      },
      "source": [
        "- Visualize the distribution of RemoteWork by region using a grouped bar chart or heatmap.\n"
      ]
    },
    {
      "cell_type": "code",
      "metadata": {
        "colab": {
          "base_uri": "https://localhost:8080/",
          "height": 595
        },
        "id": "8e62793b-0982-4d16-a151-18d0e05a93e1",
        "outputId": "bd79b922-7303-4d26-8219-4793d9396d46"
      },
      "outputs": [
        {
          "output_type": "display_data",
          "data": {
            "text/plain": [
              "<Figure size 1400x800 with 0 Axes>"
            ]
          },
          "metadata": {}
        },
        {
          "output_type": "display_data",
          "data": {
            "text/plain": [
              "<Figure size 1400x800 with 1 Axes>"
            ],
            "image/png": "[encoded data removed]"
          },
          "metadata": {}
        },
        {
          "output_type": "stream",
          "name": "stdout",
          "text": [
            "\n",
            "Interpretation of the Remote Work Distribution Chart:\n",
            "This grouped bar chart shows the number of respondents in each remote work category ('Remote', 'Hybrid', 'In-person') for the top 20 countries.\n",
            "Compare the heights of the bars within each country group to see the dominant remote work status.\n",
            "Compare the patterns across different countries to identify regional differences in remote work trends.\n"
          ]
        }
      ],
      "source": [
        "## Write your code here\n",
        "## Write your code here\n",
        "# Calculate the value counts for 'RemoteWork' and 'Country'\n",
        "remote_work_counts = df.groupby('Country')['RemoteWork'].value_counts().unstack().fillna(0)\n",
        "\n",
        "# Select the top N countries for better visualization if there are many countries\n",
        "top_n_countries = 20\n",
        "top_countries = df['Country'].value_counts().nlargest(top_n_countries).index\n",
        "remote_work_counts_top = remote_work_counts.loc[top_countries]\n",
        "\n",
        "\n",
        "# Create a grouped bar chart\n",
        "plt.figure(figsize=(14, 8))\n",
        "remote_work_counts_top.plot(kind='bar', stacked=False, figsize=(14, 8))\n",
        "plt.title(f'Distribution of Remote Work by Top {top_n_countries} Countries')\n",
        "plt.xlabel('Country')\n",
        "plt.ylabel('Number of Respondents')\n",
        "plt.xticks(rotation=90)\n",
        "plt.legend(title='Remote Work Status', bbox_to_anchor=(1.05, 1), loc='upper left')\n",
        "plt.tight_layout() # Adjust layout to prevent labels overlapping\n",
        "plt.show()\n",
        "\n",
        "# Interpretation:\n",
        "print(\"\\nInterpretation of the Remote Work Distribution Chart:\")\n",
        "print(f\"This grouped bar chart shows the number of respondents in each remote work category ('Remote', 'Hybrid', 'In-person') for the top {top_n_countries} countries.\")\n",
        "print(\"Compare the heights of the bars within each country group to see the dominant remote work status.\")\n",
        "print(\"Compare the patterns across different countries to identify regional differences in remote work trends.\")"
      ],
      "execution_count": 14
    },
    {
      "cell_type": "markdown",
      "metadata": {
        "id": "e18b5e89-f7d6-4ac6-bf6c-e5317d7e523f"
      },
      "source": [
        "### Step 8: Correlation between Job Satisfaction and Experience\n"
      ]
    },
    {
      "cell_type": "markdown",
      "metadata": {
        "id": "10c71589-0b90-45f9-8c24-1a91a35adad4"
      },
      "source": [
        "- Analyze the correlation between overall job satisfaction (`JobSat`) and `YearsCodePro`.\n",
        "  \n",
        "- Calculate the Pearson or Spearman correlation coefficient.\n"
      ]
    },
    {
      "cell_type": "code",
      "source": [
        "import numpy as np\n",
        "from scipy.stats import pearsonr, spearmanr\n"
      ],
      "metadata": {
        "id": "g0CLr-Fq-BTr"
      },
      "execution_count": 67,
      "outputs": []
    },
    {
      "cell_type": "code",
      "source": [
        "print(df_clean.shape)\n",
        "print(df_clean.nunique())\n",
        "\n"
      ],
      "metadata": {
        "colab": {
          "base_uri": "https://localhost:8080/"
        },
        "id": "cd_ZDQlt-s4f",
        "outputId": "e26f61b2-d3e9-4ab1-c2c7-75da9c4db800"
      },
      "execution_count": 69,
      "outputs": [
        {
          "output_type": "stream",
          "name": "stdout",
          "text": [
            "(27568, 2)\n",
            "JobSat_num          11\n",
            "YearsCodePro_num    50\n",
            "dtype: int64\n"
          ]
        }
      ]
    },
    {
      "cell_type": "code",
      "source": [
        "print(df_clean.dtypes)\n"
      ],
      "metadata": {
        "colab": {
          "base_uri": "https://localhost:8080/"
        },
        "id": "5-fAGXyu-843",
        "outputId": "0f98c0ab-d171-4b89-9d52-cf3a41471249"
      },
      "execution_count": 70,
      "outputs": [
        {
          "output_type": "stream",
          "name": "stdout",
          "text": [
            "JobSat_num          float64\n",
            "YearsCodePro_num    float64\n",
            "dtype: object\n"
          ]
        }
      ]
    },
    {
      "cell_type": "code",
      "source": [
        "job_sat_map = {\n",
        "    'Very dissatisfied': 1,\n",
        "    'Dissatisfied': 2,\n",
        "    'Neutral': 3,\n",
        "    'Satisfied': 4,\n",
        "    'Very satisfied': 5\n",
        "}\n",
        "df['JobSat_num'] = df['JobSat'].map(job_sat_map)\n"
      ],
      "metadata": {
        "id": "6HzdphQK-OT9"
      },
      "execution_count": 71,
      "outputs": []
    },
    {
      "cell_type": "code",
      "source": [
        "df.head()"
      ],
      "metadata": {
        "colab": {
          "base_uri": "https://localhost:8080/",
          "height": 457
        },
        "id": "PVqkNrAaA9sY",
        "outputId": "b6485c69-cc3a-40c5-bcfa-585c40c7096a"
      },
      "execution_count": 72,
      "outputs": [
        {
          "output_type": "execute_result",
          "data": {
            "text/plain": [
              "   ResponseId                      MainBranch                 Age  \\\n",
              "0           1  I am a developer by profession  Under 18 years old   \n",
              "1           2  I am a developer by profession     35-44 years old   \n",
              "2           3  I am a developer by profession     45-54 years old   \n",
              "3           4           I am learning to code     18-24 years old   \n",
              "4           5  I am a developer by profession     18-24 years old   \n",
              "\n",
              "            Employment RemoteWork   Check  \\\n",
              "0  Employed, full-time     Remote  Apples   \n",
              "1  Employed, full-time     Remote  Apples   \n",
              "2  Employed, full-time     Remote  Apples   \n",
              "3   Student, full-time        NaN  Apples   \n",
              "4   Student, full-time        NaN  Apples   \n",
              "\n",
              "                                    CodingActivities  \\\n",
              "0                                              Hobby   \n",
              "1  Hobby;Contribute to open-source projects;Other...   \n",
              "2  Hobby;Contribute to open-source projects;Other...   \n",
              "3                                                NaN   \n",
              "4                                                NaN   \n",
              "\n",
              "                                             EdLevel  \\\n",
              "0                          Primary/elementary school   \n",
              "1       Bachelor’s degree (B.A., B.S., B.Eng., etc.)   \n",
              "2    Master’s degree (M.A., M.S., M.Eng., MBA, etc.)   \n",
              "3  Some college/university study without earning ...   \n",
              "4  Secondary school (e.g. American high school, G...   \n",
              "\n",
              "                                           LearnCode  \\\n",
              "0                             Books / Physical media   \n",
              "1  Books / Physical media;Colleague;On the job tr...   \n",
              "2  Books / Physical media;Colleague;On the job tr...   \n",
              "3  Other online resources (e.g., videos, blogs, f...   \n",
              "4  Other online resources (e.g., videos, blogs, f...   \n",
              "\n",
              "                                     LearnCodeOnline  ... JobSatPoints_7  \\\n",
              "0                                                NaN  ...            NaN   \n",
              "1  Technical documentation;Blogs;Books;Written Tu...  ...            0.0   \n",
              "2  Technical documentation;Blogs;Books;Written Tu...  ...            NaN   \n",
              "3  Stack Overflow;How-to videos;Interactive tutorial  ...            NaN   \n",
              "4  Technical documentation;Blogs;Written Tutorial...  ...            NaN   \n",
              "\n",
              "  JobSatPoints_8 JobSatPoints_9 JobSatPoints_10 JobSatPoints_11  \\\n",
              "0            NaN            NaN             NaN             NaN   \n",
              "1            0.0            0.0             0.0             0.0   \n",
              "2            NaN            NaN             NaN             NaN   \n",
              "3            NaN            NaN             NaN             NaN   \n",
              "4            NaN            NaN             NaN             NaN   \n",
              "\n",
              "            SurveyLength SurveyEase ConvertedCompYearly JobSat JobSat_num  \n",
              "0                    NaN        NaN                 NaN    NaN        NaN  \n",
              "1                    NaN        NaN                 NaN    NaN        NaN  \n",
              "2  Appropriate in length       Easy                 NaN    NaN        NaN  \n",
              "3               Too long       Easy                 NaN    NaN        NaN  \n",
              "4              Too short       Easy                 NaN    NaN        NaN  \n",
              "\n",
              "[5 rows x 115 columns]"
            ],
            "text/html": [
              "\n",
              "  <div id=\"df-f9605d1e-a374-4dbe-8d2e-d65e661a7fbc\" class=\"colab-df-container\">\n",
              "    <div>\n",
              "<style scoped>\n",
              "    .dataframe tbody tr th:only-of-type {\n",
              "        vertical-align: middle;\n",
              "    }\n",
              "\n",
              "    .dataframe tbody tr th {\n",
              "        vertical-align: top;\n",
              "    }\n",
              "\n",
              "    .dataframe thead th {\n",
              "        text-align: right;\n",
              "    }\n",
              "</style>\n",
              "<table border=\"1\" class=\"dataframe\">\n",
              "  <thead>\n",
              "    <tr style=\"text-align: right;\">\n",
              "      <th></th>\n",
              "      <th>ResponseId</th>\n",
              "      <th>MainBranch</th>\n",
              "      <th>Age</th>\n",
              "      <th>Employment</th>\n",
              "      <th>RemoteWork</th>\n",
              "      <th>Check</th>\n",
              "      <th>CodingActivities</th>\n",
              "      <th>EdLevel</th>\n",
              "      <th>LearnCode</th>\n",
              "      <th>LearnCodeOnline</th>\n",
              "      <th>...</th>\n",
              "      <th>JobSatPoints_7</th>\n",
              "      <th>JobSatPoints_8</th>\n",
              "      <th>JobSatPoints_9</th>\n",
              "      <th>JobSatPoints_10</th>\n",
              "      <th>JobSatPoints_11</th>\n",
              "      <th>SurveyLength</th>\n",
              "      <th>SurveyEase</th>\n",
              "      <th>ConvertedCompYearly</th>\n",
              "      <th>JobSat</th>\n",
              "      <th>JobSat_num</th>\n",
              "    </tr>\n",
              "  </thead>\n",
              "  <tbody>\n",
              "    <tr>\n",
              "      <th>0</th>\n",
              "      <td>1</td>\n",
              "      <td>I am a developer by profession</td>\n",
              "      <td>Under 18 years old</td>\n",
              "      <td>Employed, full-time</td>\n",
              "      <td>Remote</td>\n",
              "      <td>Apples</td>\n",
              "      <td>Hobby</td>\n",
              "      <td>Primary/elementary school</td>\n",
              "      <td>Books / Physical media</td>\n",
              "      <td>NaN</td>\n",
              "      <td>...</td>\n",
              "      <td>NaN</td>\n",
              "      <td>NaN</td>\n",
              "      <td>NaN</td>\n",
              "      <td>NaN</td>\n",
              "      <td>NaN</td>\n",
              "      <td>NaN</td>\n",
              "      <td>NaN</td>\n",
              "      <td>NaN</td>\n",
              "      <td>NaN</td>\n",
              "      <td>NaN</td>\n",
              "    </tr>\n",
              "    <tr>\n",
              "      <th>1</th>\n",
              "      <td>2</td>\n",
              "      <td>I am a developer by profession</td>\n",
              "      <td>35-44 years old</td>\n",
              "      <td>Employed, full-time</td>\n",
              "      <td>Remote</td>\n",
              "      <td>Apples</td>\n",
              "      <td>Hobby;Contribute to open-source projects;Other...</td>\n",
              "      <td>Bachelor’s degree (B.A., B.S., B.Eng., etc.)</td>\n",
              "      <td>Books / Physical media;Colleague;On the job tr...</td>\n",
              "      <td>Technical documentation;Blogs;Books;Written Tu...</td>\n",
              "      <td>...</td>\n",
              "      <td>0.0</td>\n",
              "      <td>0.0</td>\n",
              "      <td>0.0</td>\n",
              "      <td>0.0</td>\n",
              "      <td>0.0</td>\n",
              "      <td>NaN</td>\n",
              "      <td>NaN</td>\n",
              "      <td>NaN</td>\n",
              "      <td>NaN</td>\n",
              "      <td>NaN</td>\n",
              "    </tr>\n",
              "    <tr>\n",
              "      <th>2</th>\n",
              "      <td>3</td>\n",
              "      <td>I am a developer by profession</td>\n",
              "      <td>45-54 years old</td>\n",
              "      <td>Employed, full-time</td>\n",
              "      <td>Remote</td>\n",
              "      <td>Apples</td>\n",
              "      <td>Hobby;Contribute to open-source projects;Other...</td>\n",
              "      <td>Master’s degree (M.A., M.S., M.Eng., MBA, etc.)</td>\n",
              "      <td>Books / Physical media;Colleague;On the job tr...</td>\n",
              "      <td>Technical documentation;Blogs;Books;Written Tu...</td>\n",
              "      <td>...</td>\n",
              "      <td>NaN</td>\n",
              "      <td>NaN</td>\n",
              "      <td>NaN</td>\n",
              "      <td>NaN</td>\n",
              "      <td>NaN</td>\n",
              "      <td>Appropriate in length</td>\n",
              "      <td>Easy</td>\n",
              "      <td>NaN</td>\n",
              "      <td>NaN</td>\n",
              "      <td>NaN</td>\n",
              "    </tr>\n",
              "    <tr>\n",
              "      <th>3</th>\n",
              "      <td>4</td>\n",
              "      <td>I am learning to code</td>\n",
              "      <td>18-24 years old</td>\n",
              "      <td>Student, full-time</td>\n",
              "      <td>NaN</td>\n",
              "      <td>Apples</td>\n",
              "      <td>NaN</td>\n",
              "      <td>Some college/university study without earning ...</td>\n",
              "      <td>Other online resources (e.g., videos, blogs, f...</td>\n",
              "      <td>Stack Overflow;How-to videos;Interactive tutorial</td>\n",
              "      <td>...</td>\n",
              "      <td>NaN</td>\n",
              "      <td>NaN</td>\n",
              "      <td>NaN</td>\n",
              "      <td>NaN</td>\n",
              "      <td>NaN</td>\n",
              "      <td>Too long</td>\n",
              "      <td>Easy</td>\n",
              "      <td>NaN</td>\n",
              "      <td>NaN</td>\n",
              "      <td>NaN</td>\n",
              "    </tr>\n",
              "    <tr>\n",
              "      <th>4</th>\n",
              "      <td>5</td>\n",
              "      <td>I am a developer by profession</td>\n",
              "      <td>18-24 years old</td>\n",
              "      <td>Student, full-time</td>\n",
              "      <td>NaN</td>\n",
              "      <td>Apples</td>\n",
              "      <td>NaN</td>\n",
              "      <td>Secondary school (e.g. American high school, G...</td>\n",
              "      <td>Other online resources (e.g., videos, blogs, f...</td>\n",
              "      <td>Technical documentation;Blogs;Written Tutorial...</td>\n",
              "      <td>...</td>\n",
              "      <td>NaN</td>\n",
              "      <td>NaN</td>\n",
              "      <td>NaN</td>\n",
              "      <td>NaN</td>\n",
              "      <td>NaN</td>\n",
              "      <td>Too short</td>\n",
              "      <td>Easy</td>\n",
              "      <td>NaN</td>\n",
              "      <td>NaN</td>\n",
              "      <td>NaN</td>\n",
              "    </tr>\n",
              "  </tbody>\n",
              "</table>\n",
              "<p>5 rows × 115 columns</p>\n",
              "</div>\n",
              "    <div class=\"colab-df-buttons\">\n",
              "\n",
              "  <div class=\"colab-df-container\">\n",
              "    <button class=\"colab-df-convert\" onclick=\"convertToInteractive('df-f9605d1e-a374-4dbe-8d2e-d65e661a7fbc')\"\n",
              "            title=\"Convert this dataframe to an interactive table.\"\n",
              "            style=\"display:none;\">\n",
              "\n",
              "  <svg xmlns=\"http://www.w3.org/2000/svg\" height=\"24px\" viewBox=\"0 -960 960 960\">\n",
              "    <path d=\"M120-120v-720h720v720H120Zm60-500h600v-160H180v160Zm220 220h160v-160H400v160Zm0 220h160v-160H400v160ZM180-400h160v-160H180v160Zm440 0h160v-160H620v160ZM180-180h160v-160H180v160Zm440 0h160v-160H620v160Z\"/>\n",
              "  </svg>\n",
              "    </button>\n",
              "\n",
              "  <style>\n",
              "    .colab-df-container {\n",
              "      display:flex;\n",
              "      gap: 12px;\n",
              "    }\n",
              "\n",
              "    .colab-df-convert {\n",
              "      background-color: #E8F0FE;\n",
              "      border: none;\n",
              "      border-radius: 50%;\n",
              "      cursor: pointer;\n",
              "      display: none;\n",
              "      fill: #1967D2;\n",
              "      height: 32px;\n",
              "      padding: 0 0 0 0;\n",
              "      width: 32px;\n",
              "    }\n",
              "\n",
              "    .colab-df-convert:hover {\n",
              "      background-color: #E2EBFA;\n",
              "      box-shadow: 0px 1px 2px rgba(60, 64, 67, 0.3), 0px 1px 3px 1px rgba(60, 64, 67, 0.15);\n",
              "      fill: #174EA6;\n",
              "    }\n",
              "\n",
              "    .colab-df-buttons div {\n",
              "      margin-bottom: 4px;\n",
              "    }\n",
              "\n",
              "    [theme=dark] .colab-df-convert {\n",
              "      background-color: #3B4455;\n",
              "      fill: #D2E3FC;\n",
              "    }\n",
              "\n",
              "    [theme=dark] .colab-df-convert:hover {\n",
              "      background-color: #434B5C;\n",
              "      box-shadow: 0px 1px 3px 1px rgba(0, 0, 0, 0.15);\n",
              "      filter: drop-shadow(0px 1px 2px rgba(0, 0, 0, 0.3));\n",
              "      fill: #FFFFFF;\n",
              "    }\n",
              "  </style>\n",
              "\n",
              "    <script>\n",
              "      const buttonEl =\n",
              "        document.querySelector('#df-f9605d1e-a374-4dbe-8d2e-d65e661a7fbc button.colab-df-convert');\n",
              "      buttonEl.style.display =\n",
              "        google.colab.kernel.accessAllowed ? 'block' : 'none';\n",
              "\n",
              "      async function convertToInteractive(key) {\n",
              "        const element = document.querySelector('#df-f9605d1e-a374-4dbe-8d2e-d65e661a7fbc');\n",
              "        const dataTable =\n",
              "          await google.colab.kernel.invokeFunction('convertToInteractive',\n",
              "                                                    [key], {});\n",
              "        if (!dataTable) return;\n",
              "\n",
              "        const docLinkHtml = 'Like what you see? Visit the ' +\n",
              "          '<a target=\"_blank\" href=https://colab.research.google.com/notebooks/data_table.ipynb>data table notebook</a>'\n",
              "          + ' to learn more about interactive tables.';\n",
              "        element.innerHTML = '';\n",
              "        dataTable['output_type'] = 'display_data';\n",
              "        await google.colab.output.renderOutput(dataTable, element);\n",
              "        const docLink = document.createElement('div');\n",
              "        docLink.innerHTML = docLinkHtml;\n",
              "        element.appendChild(docLink);\n",
              "      }\n",
              "    </script>\n",
              "  </div>\n",
              "\n",
              "\n",
              "    <div id=\"df-11b5b0d8-9396-49f6-af31-fc47a359ec5b\">\n",
              "      <button class=\"colab-df-quickchart\" onclick=\"quickchart('df-11b5b0d8-9396-49f6-af31-fc47a359ec5b')\"\n",
              "                title=\"Suggest charts\"\n",
              "                style=\"display:none;\">\n",
              "\n",
              "<svg xmlns=\"http://www.w3.org/2000/svg\" height=\"24px\"viewBox=\"0 0 24 24\"\n",
              "     width=\"24px\">\n",
              "    <g>\n",
              "        <path d=\"M19 3H5c-1.1 0-2 .9-2 2v14c0 1.1.9 2 2 2h14c1.1 0 2-.9 2-2V5c0-1.1-.9-2-2-2zM9 17H7v-7h2v7zm4 0h-2V7h2v10zm4 0h-2v-4h2v4z\"/>\n",
              "    </g>\n",
              "</svg>\n",
              "      </button>\n",
              "\n",
              "<style>\n",
              "  .colab-df-quickchart {\n",
              "      --bg-color: #E8F0FE;\n",
              "      --fill-color: #1967D2;\n",
              "      --hover-bg-color: #E2EBFA;\n",
              "      --hover-fill-color: #174EA6;\n",
              "      --disabled-fill-color: #AAA;\n",
              "      --disabled-bg-color: #DDD;\n",
              "  }\n",
              "\n",
              "  [theme=dark] .colab-df-quickchart {\n",
              "      --bg-color: #3B4455;\n",
              "      --fill-color: #D2E3FC;\n",
              "      --hover-bg-color: #434B5C;\n",
              "      --hover-fill-color: #FFFFFF;\n",
              "      --disabled-bg-color: #3B4455;\n",
              "      --disabled-fill-color: #666;\n",
              "  }\n",
              "\n",
              "  .colab-df-quickchart {\n",
              "    background-color: var(--bg-color);\n",
              "    border: none;\n",
              "    border-radius: 50%;\n",
              "    cursor: pointer;\n",
              "    display: none;\n",
              "    fill: var(--fill-color);\n",
              "    height: 32px;\n",
              "    padding: 0;\n",
              "    width: 32px;\n",
              "  }\n",
              "\n",
              "  .colab-df-quickchart:hover {\n",
              "    background-color: var(--hover-bg-color);\n",
              "    box-shadow: 0 1px 2px rgba(60, 64, 67, 0.3), 0 1px 3px 1px rgba(60, 64, 67, 0.15);\n",
              "    fill: var(--button-hover-fill-color);\n",
              "  }\n",
              "\n",
              "  .colab-df-quickchart-complete:disabled,\n",
              "  .colab-df-quickchart-complete:disabled:hover {\n",
              "    background-color: var(--disabled-bg-color);\n",
              "    fill: var(--disabled-fill-color);\n",
              "    box-shadow: none;\n",
              "  }\n",
              "\n",
              "  .colab-df-spinner {\n",
              "    border: 2px solid var(--fill-color);\n",
              "    border-color: transparent;\n",
              "    border-bottom-color: var(--fill-color);\n",
              "    animation:\n",
              "      spin 1s steps(1) infinite;\n",
              "  }\n",
              "\n",
              "  @keyframes spin {\n",
              "    0% {\n",
              "      border-color: transparent;\n",
              "      border-bottom-color: var(--fill-color);\n",
              "      border-left-color: var(--fill-color);\n",
              "    }\n",
              "    20% {\n",
              "      border-color: transparent;\n",
              "      border-left-color: var(--fill-color);\n",
              "      border-top-color: var(--fill-color);\n",
              "    }\n",
              "    30% {\n",
              "      border-color: transparent;\n",
              "      border-left-color: var(--fill-color);\n",
              "      border-top-color: var(--fill-color);\n",
              "      border-right-color: var(--fill-color);\n",
              "    }\n",
              "    40% {\n",
              "      border-color: transparent;\n",
              "      border-right-color: var(--fill-color);\n",
              "      border-top-color: var(--fill-color);\n",
              "    }\n",
              "    60% {\n",
              "      border-color: transparent;\n",
              "      border-right-color: var(--fill-color);\n",
              "    }\n",
              "    80% {\n",
              "      border-color: transparent;\n",
              "      border-right-color: var(--fill-color);\n",
              "      border-bottom-color: var(--fill-color);\n",
              "    }\n",
              "    90% {\n",
              "      border-color: transparent;\n",
              "      border-bottom-color: var(--fill-color);\n",
              "    }\n",
              "  }\n",
              "</style>\n",
              "\n",
              "      <script>\n",
              "        async function quickchart(key) {\n",
              "          const quickchartButtonEl =\n",
              "            document.querySelector('#' + key + ' button');\n",
              "          quickchartButtonEl.disabled = true;  // To prevent multiple clicks.\n",
              "          quickchartButtonEl.classList.add('colab-df-spinner');\n",
              "          try {\n",
              "            const charts = await google.colab.kernel.invokeFunction(\n",
              "                'suggestCharts', [key], {});\n",
              "          } catch (error) {\n",
              "            console.error('Error during call to suggestCharts:', error);\n",
              "          }\n",
              "          quickchartButtonEl.classList.remove('colab-df-spinner');\n",
              "          quickchartButtonEl.classList.add('colab-df-quickchart-complete');\n",
              "        }\n",
              "        (() => {\n",
              "          let quickchartButtonEl =\n",
              "            document.querySelector('#df-11b5b0d8-9396-49f6-af31-fc47a359ec5b button');\n",
              "          quickchartButtonEl.style.display =\n",
              "            google.colab.kernel.accessAllowed ? 'block' : 'none';\n",
              "        })();\n",
              "      </script>\n",
              "    </div>\n",
              "\n",
              "    </div>\n",
              "  </div>\n"
            ],
            "application/vnd.google.colaboratory.intrinsic+json": {
              "type": "dataframe",
              "variable_name": "df"
            }
          },
          "metadata": {},
          "execution_count": 72
        }
      ]
    },
    {
      "cell_type": "code",
      "source": [
        "from scipy.stats import pearsonr, spearmanr\n",
        "\n",
        "# Pearson\n",
        "pearson_corr, pearson_p = pearsonr(df_clean['JobSat_num'], df_clean['YearsCodePro_num'])\n",
        "print(f\"Pearson correlation: {pearson_corr:.3f}, p-value: {pearson_p:.3g}\")\n",
        "\n",
        "# Spearman\n",
        "spearman_corr, spearman_p = spearmanr(df_clean['JobSat_num'], df_clean['YearsCodePro_num'])\n",
        "print(f\"Spearman correlation: {spearman_corr:.3f}, p-value: {spearman_p:.3g}\")\n"
      ],
      "metadata": {
        "colab": {
          "base_uri": "https://localhost:8080/"
        },
        "id": "M4ODM8Z2CMuK",
        "outputId": "8f4c969d-4dc4-444d-a1e7-809bc8b72a5e"
      },
      "execution_count": 73,
      "outputs": [
        {
          "output_type": "stream",
          "name": "stdout",
          "text": [
            "Pearson correlation: 0.103, p-value: 2.33e-66\n",
            "Spearman correlation: 0.121, p-value: 5.94e-90\n"
          ]
        }
      ]
    },
    {
      "cell_type": "markdown",
      "metadata": {
        "id": "667bc348-3af3-4260-8304-636f5cba3f3a"
      },
      "source": [
        "### Step 9: Cross-tabulation Analysis (Employment vs. Education Level)\n"
      ]
    },
    {
      "cell_type": "markdown",
      "metadata": {
        "id": "46fbc1d0-7954-4e3b-8587-ef56c9980481"
      },
      "source": [
        "- Analyze the relationship between employment status (`Employment`) and education level (`EdLevel`).\n",
        "\n",
        "- **Instruction**: Create a cross-tabulation using `pd.crosstab()` and visualize it with a stacked bar plot if possible.\n"
      ]
    },
    {
      "cell_type": "code",
      "source": [
        "print(df.columns)"
      ],
      "metadata": {
        "colab": {
          "base_uri": "https://localhost:8080/"
        },
        "id": "4nHz_XhkC8hD",
        "outputId": "d28d3572-3ec2-417e-cf11-a821e40bb1d1"
      },
      "execution_count": 74,
      "outputs": [
        {
          "output_type": "stream",
          "name": "stdout",
          "text": [
            "Index(['ResponseId', 'MainBranch', 'Age', 'Employment', 'RemoteWork', 'Check',\n",
            "       'CodingActivities', 'EdLevel', 'LearnCode', 'LearnCodeOnline',\n",
            "       ...\n",
            "       'JobSatPoints_7', 'JobSatPoints_8', 'JobSatPoints_9', 'JobSatPoints_10',\n",
            "       'JobSatPoints_11', 'SurveyLength', 'SurveyEase', 'ConvertedCompYearly',\n",
            "       'JobSat', 'JobSat_num'],\n",
            "      dtype='object', length=115)\n"
          ]
        }
      ]
    },
    {
      "cell_type": "code",
      "metadata": {
        "id": "f6a8c598-0255-4b0c-b321-fd584f216eb1"
      },
      "outputs": [],
      "source": [
        "## Write your code here\n",
        "def simplify_edlevel(x):\n",
        "    if \"Bachelor’s\" in x:\n",
        "        return \"Bachelor’s degree\"\n",
        "    elif \"Master’s\" in x:\n",
        "        return \"Master’s degree\"\n",
        "    elif \"Associate\" in x or \"Some college\" in x:\n",
        "        return \"Associate/Some College\"\n",
        "    elif \"Professional\" in x or \"Other doctoral\" in x:\n",
        "        return \"Doctorate/Professional\"\n",
        "    elif \"Primary\" in x or \"Secondary\" in x:\n",
        "        return \"High school or less\"\n",
        "    else:\n",
        "        return \"Other\"\n",
        "\n",
        "df['EdLevel_simplified'] = df['EdLevel'].dropna().apply(simplify_edlevel)\n",
        "\n",
        "\n"
      ],
      "execution_count": 78
    },
    {
      "cell_type": "code",
      "source": [
        "def simplify_employment(x):\n",
        "    if \"Employed full-time\" in x:\n",
        "        return \"Full-time\"\n",
        "    elif \"Employed part-time\" in x:\n",
        "        return \"Part-time\"\n",
        "    elif \"Not employed\" in x or \"Retired\" in x:\n",
        "        return \"Not employed\"\n",
        "    elif \"Student\" in x:\n",
        "        return \"Student\"\n",
        "    elif \"Independent\" in x or \"Freelancer\" in x:\n",
        "        return \"Freelancer\"\n",
        "    else:\n",
        "        return \"Other\"\n",
        "\n",
        "df['Employment_simplified'] = df['Employment'].dropna().apply(simplify_employment)\n",
        "\n"
      ],
      "metadata": {
        "id": "GQVegI8oEPrn"
      },
      "execution_count": 79,
      "outputs": []
    },
    {
      "cell_type": "code",
      "source": [
        "ct = pd.crosstab(df['EdLevel_simplified'], df['Employment_simplified'])\n"
      ],
      "metadata": {
        "id": "qzpVNbVkE2WI"
      },
      "execution_count": 80,
      "outputs": []
    },
    {
      "cell_type": "code",
      "source": [
        "ct.plot(\n",
        "    kind='bar',\n",
        "    stacked=True,\n",
        "    figsize=(10, 6),\n",
        "    colormap='Set2',\n",
        "    edgecolor='black'\n",
        ")\n",
        "\n",
        "plt.title('Employment Status by Education Level (Simplified)', fontsize=14)\n",
        "plt.xlabel('Education Level', fontsize=12)\n",
        "plt.ylabel('Number of Respondents', fontsize=12)\n",
        "plt.xticks(rotation=30, ha='right')\n",
        "plt.legend(title='Employment Status', bbox_to_anchor=(1.05, 1), loc='upper left')\n",
        "plt.tight_layout()\n",
        "plt.grid(axis='y', linestyle='--', alpha=0.7)\n",
        "plt.show()\n"
      ],
      "metadata": {
        "colab": {
          "base_uri": "https://localhost:8080/",
          "height": 491
        },
        "id": "n_TnJYy0FCdu",
        "outputId": "7604eb2d-3610-41cb-8c38-3f51c813b434"
      },
      "execution_count": 81,
      "outputs": [
        {
          "output_type": "display_data",
          "data": {
            "text/plain": [
              "<Figure size 1000x600 with 1 Axes>"
            ],
            "image/png": "[encoded data removed]"
          },
          "metadata": {}
        }
      ]
    },
    {
      "cell_type": "markdown",
      "metadata": {
        "id": "8c7af7a4-2289-4da5-9d83-90b117682c00"
      },
      "source": [
        "### Step 10: Export Cleaned Data\n"
      ]
    },
    {
      "cell_type": "markdown",
      "metadata": {
        "id": "2fc6a832-dd1d-434a-9157-00d9edc5bd93"
      },
      "source": [
        "- Save the cleaned dataset to a new CSV file for further use or sharing.\n"
      ]
    },
    {
      "cell_type": "code",
      "metadata": {
        "id": "c271d03f-bde1-4895-99b7-02e4445636eb"
      },
      "outputs": [],
      "source": [
        "## Write your code here\n",
        "# Save the cleaned dataset to a new CSV file\n",
        "df.to_csv('cleaned_survey_data.csv', index=False)"
      ],
      "execution_count": 82
    },
    {
      "cell_type": "markdown",
      "metadata": {
        "id": "235ee8dd-edb1-4fa8-889a-df573c323be7"
      },
      "source": [
        "### Summary:\n"
      ]
    },
    {
      "cell_type": "markdown",
      "metadata": {
        "id": "fd71e05c-b664-4fc8-8cce-b69bfdb7d076"
      },
      "source": [
        "In this lab, you practiced key skills in exploratory data analysis, including:\n"
      ]
    },
    {
      "cell_type": "markdown",
      "metadata": {
        "id": "8b85030c-be9e-465e-8096-49343d0af099"
      },
      "source": [
        "- Examining the structure and content of the Stack Overflow survey dataset to understand its variables and data types.\n",
        "\n",
        "- Identifying and addressing missing data to ensure the dataset's quality and completeness.\n",
        "\n",
        "- Summarizing and visualizing key variables such as job satisfaction, programming languages, and remote work trends.\n",
        "\n",
        "- Analyzing relationships in the data using techniques like:\n",
        "    - Comparing programming languages respondents have worked with versus those they want to work with.\n",
        "      \n",
        "    - Exploring remote work preferences by region.\n",
        "\n",
        "- Investigating correlations between professional coding experience and job satisfaction.\n",
        "\n",
        "- Performing cross-tabulations to analyze relationships between employment status and education levels.\n"
      ]
    },
    {
      "cell_type": "markdown",
      "metadata": {
        "id": "3b66ebba-a907-43e0-94c9-bb211060681d"
      },
      "source": [
        "## Authors:\n",
        "Ayushi Jain\n"
      ]
    },
    {
      "cell_type": "markdown",
      "metadata": {
        "id": "f980ca44-bfef-42b1-a3fa-b3d13ffa1f12"
      },
      "source": [
        "### Other Contributors:\n",
        "Rav Ahuja\n",
        "Lakshmi Holla\n",
        "Malika\n"
      ]
    },
    {
      "cell_type": "markdown",
      "metadata": {
        "id": "8eaf56b8-9de2-4a84-8de7-9473998cc36f"
      },
      "source": [
        "Copyright © IBM Corporation. All rights reserved.\n"
      ]
    }
  ],
  "metadata": {
    "kernelspec": {
      "display_name": "Python 3 (ipykernel)",
      "language": "python",
      "name": "python3"
    },
    "language_info": {
      "codemirror_mode": {
        "name": "ipython",
        "version": 3
      },
      "file_extension": ".py",
      "mimetype": "text/x-python",
      "name": "python",
      "nbconvert_exporter": "python",
      "pygments_lexer": "ipython3",
      "version": "3.11.9"
    },
    "prev_pub_hash": "1d85068db2e9321c0f82f53364642bad437fc727f27ebcc94dcddab25e9a8289",
    "colab": {
      "provenance": [],
      "include_colab_link": true
    }
  },
  "nbformat": 4,
  "nbformat_minor": 0
}